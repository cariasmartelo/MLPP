{
 "cells": [
  {
   "cell_type": "markdown",
   "metadata": {},
   "source": [
    "## Homework 5\n",
    "## Improving prediction Homework 3\n",
    "## Prediction of non funded projects using cross validation\n",
    "Machine Learning for Public Policy\n",
    "\n",
    "Camilo Arias\n",
    "\n",
    "- load, clean and transform functions in pipeline.py\n",
    "\n",
    "- classifiers in classifiers.py\n",
    "\n",
    "- Functions to run cross validation in prediction.py\n",
    "\n",
    "\n",
    "## Improvements\n",
    "\n",
    "- Feature generation after split\n",
    "- Includes Bagging\n",
    "- Calculares precision and recall for top-k% and not for absolute threshold. The same for the plots.\n",
    "- Uses one function called run_model to build any classifier\n",
    "- Runs every classifier with different parameters\n",
    "- Leaves 6 months for temporal holdouts."
   ]
  },
  {
   "cell_type": "code",
   "execution_count": 1,
   "metadata": {},
   "outputs": [],
   "source": [
    "%load_ext autoreload\n",
    "%autoreload 2\n",
    "import numpy as np\n",
    "import pandas as pd\n",
    "import matplotlib.pyplot as plt\n",
    "import pipeline as ppln\n",
    "import classifiers as classif\n",
    "import prediction\n",
    "from sklearn.model_selection import train_test_split\n",
    "from sklearn.model_selection import TimeSeriesSplit\n",
    "import warnings; warnings.simplefilter('ignore')"
   ]
  },
  {
   "cell_type": "markdown",
   "metadata": {},
   "source": [
    "## Parameters of the model"
   ]
  },
  {
   "cell_type": "code",
   "execution_count": 2,
   "metadata": {},
   "outputs": [],
   "source": [
    "params = {\n",
    "    'days': 60,\n",
    "    'test_days': 180,\n",
    "    'cross_ks': 3,\n",
    "    'test_size': 0.3,\n",
    "    'discretize_bins': 4,\n",
    "    'work_with_sample': 1,\n",
    "    'seed': 1234,\n",
    "    'n_bins': 4,\n",
    "    'top_ks': [0.01, 0.05, 0.1, 0.2, 0.3],\n",
    "    'id_columns': ['projectid', 'teacher_acctid', 'schoolid'],\n",
    "    'cols_to_drop': ['datefullyfunded'],\n",
    "    'model_params': {\n",
    "    'KNN': {'k': [5, 10],\n",
    "            'weights': ['uniform', 'distance'],\n",
    "            'metric': ['euclidean', 'manhattan', 'minkowski']},\n",
    "    'decision_tree': {'criterion': ['gini', 'entropy'],\n",
    "                      'max_depth': [20, 30, 40]},\n",
    "\n",
    "    'logistic_reg': {'C': [10**-2, 1 , 10**2],\n",
    "                     'penalty': ['l1', 'l2'],\n",
    "                     'fit_intercept': [True, False]},\n",
    "\n",
    "    'svm': {'C': [10**-2, 10**-1, 1 , 10, 10**2]},\n",
    "\n",
    "    'random_forest': {'criterion': ['gini', 'entropy'],\n",
    "                      'max_depth': [10, 15],\n",
    "                      'n_estimators': [80, 100, 150]},\n",
    "\n",
    "    'gradient_boost': {'max_depth': [10, 15],\n",
    "                       'n_estimators': [80, 100, 150],\n",
    "                       'loss': ['deviance', 'exponential']},\n",
    "    'bagging': {'base_estimator': [None],\n",
    "                'n_estimators': [80, 100, 150]}}\n",
    "}\n",
    "outcome_var = \"not_funded_in_{}_days\".format(params['days'])"
   ]
  },
  {
   "cell_type": "code",
   "execution_count": 3,
   "metadata": {},
   "outputs": [],
   "source": [
    "models = ppln.get_all_combinations(params['model_params'])"
   ]
  },
  {
   "cell_type": "markdown",
   "metadata": {},
   "source": [
    "## Loading data and cleaning"
   ]
  },
  {
   "cell_type": "code",
   "execution_count": 6,
   "metadata": {},
   "outputs": [
    {
     "data": {
      "text/plain": [
       "count    124976.000000\n",
       "mean          0.288135\n",
       "std           0.452896\n",
       "min           0.000000\n",
       "25%           0.000000\n",
       "50%           0.000000\n",
       "75%           1.000000\n",
       "max           1.000000\n",
       "Name: not_funded_in_60_days, dtype: float64"
      ]
     },
     "execution_count": 6,
     "metadata": {},
     "output_type": "execute_result"
    }
   ],
   "source": [
    "projects_df = ppln.load_from_csv('projects_2012_2013.csv')\n",
    "projects_df = ppln.create_outcome_var(projects_df, params['days'])"
   ]
  },
  {
   "cell_type": "markdown",
   "metadata": {},
   "source": [
    "### To run model only using a sample of samplesize: params['work_with_sample']"
   ]
  },
  {
   "cell_type": "code",
   "execution_count": 6,
   "metadata": {},
   "outputs": [
    {
     "data": {
      "text/plain": [
       "(124976, 27)"
      ]
     },
     "execution_count": 6,
     "metadata": {},
     "output_type": "execute_result"
    }
   ],
   "source": [
    "if params['work_with_sample']:\n",
    "    projects_df = projects_df.sample(frac=params['work_with_sample'],\n",
    "                                     random_state=params['seed'])\n",
    "projects_df.shape                                    "
   ]
  },
  {
   "cell_type": "markdown",
   "metadata": {},
   "source": [
    "## Setting un bimesters"
   ]
  },
  {
   "cell_type": "code",
   "execution_count": 7,
   "metadata": {},
   "outputs": [],
   "source": [
    "bimester_serie, bimesters = ppln.group_by_days(projects_df['date_posted'], 61)"
   ]
  },
  {
   "cell_type": "code",
   "execution_count": 8,
   "metadata": {},
   "outputs": [
    {
     "data": {
      "text/plain": [
       "3"
      ]
     },
     "execution_count": 8,
     "metadata": {},
     "output_type": "execute_result"
    }
   ],
   "source": [
    "test_size = params['test_days']//params['days']\n",
    "test_size"
   ]
  },
  {
   "cell_type": "markdown",
   "metadata": {},
   "source": [
    "### Setting X and Y"
   ]
  },
  {
   "cell_type": "code",
   "execution_count": 13,
   "metadata": {},
   "outputs": [],
   "source": [
    "y = projects_df[outcome_var]\n",
    "x = projects_df.drop(outcome_var, axis=1)\n",
    "x = x.drop(params['id_columns'], axis=1)\n",
    "x = x.drop(params['cols_to_drop'], axis=1)"
   ]
  },
  {
   "cell_type": "code",
   "execution_count": 14,
   "metadata": {},
   "outputs": [
    {
     "data": {
      "text/plain": [
       "Index(['school_ncesid', 'school_latitude', 'school_longitude', 'school_city',\n",
       "       'school_state', 'school_metro', 'school_district', 'school_county',\n",
       "       'school_charter', 'school_magnet', 'teacher_prefix',\n",
       "       'primary_focus_subject', 'primary_focus_area',\n",
       "       'secondary_focus_subject', 'secondary_focus_area', 'resource_type',\n",
       "       'poverty_level', 'grade_level',\n",
       "       'total_price_including_optional_support', 'students_reached',\n",
       "       'eligible_double_your_impact_match', 'date_posted'],\n",
       "      dtype='object')"
      ]
     },
     "execution_count": 14,
     "metadata": {},
     "output_type": "execute_result"
    }
   ],
   "source": [
    "x.columns"
   ]
  },
  {
   "cell_type": "markdown",
   "metadata": {},
   "source": [
    "## Running models"
   ]
  },
  {
   "cell_type": "code",
   "execution_count": 15,
   "metadata": {},
   "outputs": [
    {
     "name": "stdout",
     "output_type": "stream",
     "text": [
      "Begining cross k: 1\n",
      "Train set has 26617 rows, with group values of [0, 1, 2]\n",
      "Test set has 33269 rows, with group values of [[4, 5, 6], [7, 8, 9], [10, 11, 12]]\n",
      "\n",
      "Fitting KNN\n",
      "\n",
      "Built model KNN with specification {'k': 5, 'weights': 'uniform', 'metric': 'euclidean'}\n",
      "Built model KNN with specification {'k': 5, 'weights': 'uniform', 'metric': 'manhattan'}\n",
      "Built model KNN with specification {'k': 5, 'weights': 'uniform', 'metric': 'minkowski'}\n",
      "Built model KNN with specification {'k': 5, 'weights': 'distance', 'metric': 'euclidean'}\n",
      "Built model KNN with specification {'k': 5, 'weights': 'distance', 'metric': 'manhattan'}\n",
      "Built model KNN with specification {'k': 5, 'weights': 'distance', 'metric': 'minkowski'}\n",
      "Built model KNN with specification {'k': 10, 'weights': 'uniform', 'metric': 'euclidean'}\n",
      "Built model KNN with specification {'k': 10, 'weights': 'uniform', 'metric': 'manhattan'}\n",
      "Built model KNN with specification {'k': 10, 'weights': 'uniform', 'metric': 'minkowski'}\n",
      "Built model KNN with specification {'k': 10, 'weights': 'distance', 'metric': 'euclidean'}\n",
      "Built model KNN with specification {'k': 10, 'weights': 'distance', 'metric': 'manhattan'}\n",
      "Built model KNN with specification {'k': 10, 'weights': 'distance', 'metric': 'minkowski'}\n",
      "\n",
      "Fitting decision_tree\n",
      "\n",
      "Built model decision_tree with specification {'criterion': 'gini', 'max_depth': 20}\n",
      "Built model decision_tree with specification {'criterion': 'gini', 'max_depth': 30}\n",
      "Built model decision_tree with specification {'criterion': 'gini', 'max_depth': 40}\n",
      "Built model decision_tree with specification {'criterion': 'entropy', 'max_depth': 20}\n",
      "Built model decision_tree with specification {'criterion': 'entropy', 'max_depth': 30}\n",
      "Built model decision_tree with specification {'criterion': 'entropy', 'max_depth': 40}\n",
      "\n",
      "Fitting logistic_reg\n",
      "\n",
      "Built model logistic_reg with specification {'C': 0.01, 'penalty': 'l1', 'fit_intercept': True, 'seed': 1234}\n",
      "Built model logistic_reg with specification {'C': 0.01, 'penalty': 'l1', 'fit_intercept': False, 'seed': 1234}\n",
      "Built model logistic_reg with specification {'C': 0.01, 'penalty': 'l2', 'fit_intercept': True, 'seed': 1234}\n",
      "Built model logistic_reg with specification {'C': 0.01, 'penalty': 'l2', 'fit_intercept': False, 'seed': 1234}\n",
      "Built model logistic_reg with specification {'C': 1, 'penalty': 'l1', 'fit_intercept': True, 'seed': 1234}\n",
      "Built model logistic_reg with specification {'C': 1, 'penalty': 'l1', 'fit_intercept': False, 'seed': 1234}\n",
      "Built model logistic_reg with specification {'C': 1, 'penalty': 'l2', 'fit_intercept': True, 'seed': 1234}\n",
      "Built model logistic_reg with specification {'C': 1, 'penalty': 'l2', 'fit_intercept': False, 'seed': 1234}\n",
      "Built model logistic_reg with specification {'C': 100, 'penalty': 'l1', 'fit_intercept': True, 'seed': 1234}\n",
      "Built model logistic_reg with specification {'C': 100, 'penalty': 'l1', 'fit_intercept': False, 'seed': 1234}\n",
      "Built model logistic_reg with specification {'C': 100, 'penalty': 'l2', 'fit_intercept': True, 'seed': 1234}\n",
      "Built model logistic_reg with specification {'C': 100, 'penalty': 'l2', 'fit_intercept': False, 'seed': 1234}\n",
      "\n",
      "Fitting svm\n",
      "\n",
      "Built model svm with specification {'C': 0.01, 'seed': 1234}\n",
      "Built model svm with specification {'C': 0.1, 'seed': 1234}\n",
      "Built model svm with specification {'C': 1, 'seed': 1234}\n",
      "Built model svm with specification {'C': 10, 'seed': 1234}\n",
      "Built model svm with specification {'C': 100, 'seed': 1234}\n",
      "Begining cross k: 2\n",
      "Train set has 59224 rows, with group values of [0, 1, 2, 3, 4, 5]\n",
      "Test set has 25416 rows, with group values of [[4, 5, 6], [7, 8, 9], [10, 11, 12]]\n",
      "\n",
      "Fitting KNN\n",
      "\n",
      "Built model KNN with specification {'k': 5, 'weights': 'uniform', 'metric': 'euclidean'}\n",
      "Built model KNN with specification {'k': 5, 'weights': 'uniform', 'metric': 'manhattan'}\n",
      "Built model KNN with specification {'k': 5, 'weights': 'uniform', 'metric': 'minkowski'}\n",
      "Built model KNN with specification {'k': 5, 'weights': 'distance', 'metric': 'euclidean'}\n",
      "Built model KNN with specification {'k': 5, 'weights': 'distance', 'metric': 'manhattan'}\n",
      "Built model KNN with specification {'k': 5, 'weights': 'distance', 'metric': 'minkowski'}\n",
      "Built model KNN with specification {'k': 10, 'weights': 'uniform', 'metric': 'euclidean'}\n",
      "Built model KNN with specification {'k': 10, 'weights': 'uniform', 'metric': 'manhattan'}\n",
      "Built model KNN with specification {'k': 10, 'weights': 'uniform', 'metric': 'minkowski'}\n",
      "Built model KNN with specification {'k': 10, 'weights': 'distance', 'metric': 'euclidean'}\n",
      "Built model KNN with specification {'k': 10, 'weights': 'distance', 'metric': 'manhattan'}\n",
      "Built model KNN with specification {'k': 10, 'weights': 'distance', 'metric': 'minkowski'}\n",
      "\n",
      "Fitting decision_tree\n",
      "\n",
      "Built model decision_tree with specification {'criterion': 'gini', 'max_depth': 20}\n",
      "Built model decision_tree with specification {'criterion': 'gini', 'max_depth': 30}\n",
      "Built model decision_tree with specification {'criterion': 'gini', 'max_depth': 40}\n",
      "Built model decision_tree with specification {'criterion': 'entropy', 'max_depth': 20}\n",
      "Built model decision_tree with specification {'criterion': 'entropy', 'max_depth': 30}\n",
      "Built model decision_tree with specification {'criterion': 'entropy', 'max_depth': 40}\n",
      "\n",
      "Fitting logistic_reg\n",
      "\n",
      "Built model logistic_reg with specification {'C': 0.01, 'penalty': 'l1', 'fit_intercept': True, 'seed': 1234}\n",
      "Built model logistic_reg with specification {'C': 0.01, 'penalty': 'l1', 'fit_intercept': False, 'seed': 1234}\n",
      "Built model logistic_reg with specification {'C': 0.01, 'penalty': 'l2', 'fit_intercept': True, 'seed': 1234}\n",
      "Built model logistic_reg with specification {'C': 0.01, 'penalty': 'l2', 'fit_intercept': False, 'seed': 1234}\n",
      "Built model logistic_reg with specification {'C': 1, 'penalty': 'l1', 'fit_intercept': True, 'seed': 1234}\n",
      "Built model logistic_reg with specification {'C': 1, 'penalty': 'l1', 'fit_intercept': False, 'seed': 1234}\n",
      "Built model logistic_reg with specification {'C': 1, 'penalty': 'l2', 'fit_intercept': True, 'seed': 1234}\n",
      "Built model logistic_reg with specification {'C': 1, 'penalty': 'l2', 'fit_intercept': False, 'seed': 1234}\n",
      "Built model logistic_reg with specification {'C': 100, 'penalty': 'l1', 'fit_intercept': True, 'seed': 1234}\n",
      "Built model logistic_reg with specification {'C': 100, 'penalty': 'l1', 'fit_intercept': False, 'seed': 1234}\n",
      "Built model logistic_reg with specification {'C': 100, 'penalty': 'l2', 'fit_intercept': True, 'seed': 1234}\n",
      "Built model logistic_reg with specification {'C': 100, 'penalty': 'l2', 'fit_intercept': False, 'seed': 1234}\n",
      "\n",
      "Fitting svm\n",
      "\n",
      "Built model svm with specification {'C': 0.01, 'seed': 1234}\n",
      "Built model svm with specification {'C': 0.1, 'seed': 1234}\n",
      "Built model svm with specification {'C': 1, 'seed': 1234}\n",
      "Built model svm with specification {'C': 10, 'seed': 1234}\n",
      "Built model svm with specification {'C': 100, 'seed': 1234}\n",
      "Begining cross k: 3\n",
      "Train set has 80959 rows, with group values of [0, 1, 2, 3, 4, 5, 6, 7, 8]\n",
      "Test set has 31702 rows, with group values of [[4, 5, 6], [7, 8, 9], [10, 11, 12]]\n",
      "\n",
      "Fitting KNN\n",
      "\n",
      "Built model KNN with specification {'k': 5, 'weights': 'uniform', 'metric': 'euclidean'}\n",
      "Built model KNN with specification {'k': 5, 'weights': 'uniform', 'metric': 'manhattan'}\n",
      "Built model KNN with specification {'k': 5, 'weights': 'uniform', 'metric': 'minkowski'}\n",
      "Built model KNN with specification {'k': 5, 'weights': 'distance', 'metric': 'euclidean'}\n",
      "Built model KNN with specification {'k': 5, 'weights': 'distance', 'metric': 'manhattan'}\n",
      "Built model KNN with specification {'k': 5, 'weights': 'distance', 'metric': 'minkowski'}\n",
      "Built model KNN with specification {'k': 10, 'weights': 'uniform', 'metric': 'euclidean'}\n",
      "Built model KNN with specification {'k': 10, 'weights': 'uniform', 'metric': 'manhattan'}\n",
      "Built model KNN with specification {'k': 10, 'weights': 'uniform', 'metric': 'minkowski'}\n",
      "Built model KNN with specification {'k': 10, 'weights': 'distance', 'metric': 'euclidean'}\n",
      "Built model KNN with specification {'k': 10, 'weights': 'distance', 'metric': 'manhattan'}\n",
      "Built model KNN with specification {'k': 10, 'weights': 'distance', 'metric': 'minkowski'}\n",
      "\n",
      "Fitting decision_tree\n",
      "\n",
      "Built model decision_tree with specification {'criterion': 'gini', 'max_depth': 20}\n"
     ]
    },
    {
     "name": "stdout",
     "output_type": "stream",
     "text": [
      "Built model decision_tree with specification {'criterion': 'gini', 'max_depth': 30}\n",
      "Built model decision_tree with specification {'criterion': 'gini', 'max_depth': 40}\n",
      "Built model decision_tree with specification {'criterion': 'entropy', 'max_depth': 20}\n",
      "Built model decision_tree with specification {'criterion': 'entropy', 'max_depth': 30}\n",
      "Built model decision_tree with specification {'criterion': 'entropy', 'max_depth': 40}\n",
      "\n",
      "Fitting logistic_reg\n",
      "\n",
      "Built model logistic_reg with specification {'C': 0.01, 'penalty': 'l1', 'fit_intercept': True, 'seed': 1234}\n",
      "Built model logistic_reg with specification {'C': 0.01, 'penalty': 'l1', 'fit_intercept': False, 'seed': 1234}\n",
      "Built model logistic_reg with specification {'C': 0.01, 'penalty': 'l2', 'fit_intercept': True, 'seed': 1234}\n",
      "Built model logistic_reg with specification {'C': 0.01, 'penalty': 'l2', 'fit_intercept': False, 'seed': 1234}\n",
      "Built model logistic_reg with specification {'C': 1, 'penalty': 'l1', 'fit_intercept': True, 'seed': 1234}\n",
      "Built model logistic_reg with specification {'C': 1, 'penalty': 'l1', 'fit_intercept': False, 'seed': 1234}\n",
      "Built model logistic_reg with specification {'C': 1, 'penalty': 'l2', 'fit_intercept': True, 'seed': 1234}\n",
      "Built model logistic_reg with specification {'C': 1, 'penalty': 'l2', 'fit_intercept': False, 'seed': 1234}\n",
      "Built model logistic_reg with specification {'C': 100, 'penalty': 'l1', 'fit_intercept': True, 'seed': 1234}\n",
      "Built model logistic_reg with specification {'C': 100, 'penalty': 'l1', 'fit_intercept': False, 'seed': 1234}\n",
      "Built model logistic_reg with specification {'C': 100, 'penalty': 'l2', 'fit_intercept': True, 'seed': 1234}\n",
      "Built model logistic_reg with specification {'C': 100, 'penalty': 'l2', 'fit_intercept': False, 'seed': 1234}\n",
      "\n",
      "Fitting svm\n",
      "\n",
      "Built model svm with specification {'C': 0.01, 'seed': 1234}\n",
      "Built model svm with specification {'C': 0.1, 'seed': 1234}\n",
      "Built model svm with specification {'C': 1, 'seed': 1234}\n",
      "Built model svm with specification {'C': 10, 'seed': 1234}\n",
      "Built model svm with specification {'C': 100, 'seed': 1234}\n",
      "Begining cross k: 1\n",
      "Train set has 26617 rows, with group values of [0, 1, 2]\n",
      "Test set has 33269 rows, with group values of [[4, 5, 6], [7, 8, 9], [10, 11, 12]]\n",
      "\n",
      "Fitting random_forest\n",
      "\n",
      "Built model random_forest with specification {'criterion': 'gini', 'max_depth': 10, 'n_estimators': 80, 'seed': 1234}\n",
      "Built model random_forest with specification {'criterion': 'gini', 'max_depth': 10, 'n_estimators': 100, 'seed': 1234}\n",
      "Built model random_forest with specification {'criterion': 'gini', 'max_depth': 10, 'n_estimators': 150, 'seed': 1234}\n",
      "Built model random_forest with specification {'criterion': 'gini', 'max_depth': 15, 'n_estimators': 80, 'seed': 1234}\n",
      "Built model random_forest with specification {'criterion': 'gini', 'max_depth': 15, 'n_estimators': 100, 'seed': 1234}\n",
      "Built model random_forest with specification {'criterion': 'gini', 'max_depth': 15, 'n_estimators': 150, 'seed': 1234}\n",
      "Built model random_forest with specification {'criterion': 'entropy', 'max_depth': 10, 'n_estimators': 80, 'seed': 1234}\n",
      "Built model random_forest with specification {'criterion': 'entropy', 'max_depth': 10, 'n_estimators': 100, 'seed': 1234}\n",
      "Built model random_forest with specification {'criterion': 'entropy', 'max_depth': 10, 'n_estimators': 150, 'seed': 1234}\n",
      "Built model random_forest with specification {'criterion': 'entropy', 'max_depth': 15, 'n_estimators': 80, 'seed': 1234}\n",
      "Built model random_forest with specification {'criterion': 'entropy', 'max_depth': 15, 'n_estimators': 100, 'seed': 1234}\n",
      "Built model random_forest with specification {'criterion': 'entropy', 'max_depth': 15, 'n_estimators': 150, 'seed': 1234}\n",
      "\n",
      "Fitting gradient_boost\n",
      "\n",
      "Built model gradient_boost with specification {'max_depth': 10, 'n_estimators': 80, 'loss': 'deviance', 'seed': 1234}\n",
      "Built model gradient_boost with specification {'max_depth': 10, 'n_estimators': 80, 'loss': 'exponential', 'seed': 1234}\n",
      "Built model gradient_boost with specification {'max_depth': 10, 'n_estimators': 100, 'loss': 'deviance', 'seed': 1234}\n",
      "Built model gradient_boost with specification {'max_depth': 10, 'n_estimators': 100, 'loss': 'exponential', 'seed': 1234}\n",
      "Built model gradient_boost with specification {'max_depth': 10, 'n_estimators': 150, 'loss': 'deviance', 'seed': 1234}\n",
      "Built model gradient_boost with specification {'max_depth': 10, 'n_estimators': 150, 'loss': 'exponential', 'seed': 1234}\n",
      "Built model gradient_boost with specification {'max_depth': 15, 'n_estimators': 80, 'loss': 'deviance', 'seed': 1234}\n",
      "Built model gradient_boost with specification {'max_depth': 15, 'n_estimators': 80, 'loss': 'exponential', 'seed': 1234}\n",
      "Built model gradient_boost with specification {'max_depth': 15, 'n_estimators': 100, 'loss': 'deviance', 'seed': 1234}\n",
      "Built model gradient_boost with specification {'max_depth': 15, 'n_estimators': 100, 'loss': 'exponential', 'seed': 1234}\n",
      "Built model gradient_boost with specification {'max_depth': 15, 'n_estimators': 150, 'loss': 'deviance', 'seed': 1234}\n",
      "Built model gradient_boost with specification {'max_depth': 15, 'n_estimators': 150, 'loss': 'exponential', 'seed': 1234}\n",
      "\n",
      "Fitting bagging\n",
      "\n",
      "Built model bagging with specification {'base_estimator': None, 'n_estimators': 80, 'seed': 1234}\n",
      "Built model bagging with specification {'base_estimator': None, 'n_estimators': 100, 'seed': 1234}\n",
      "Built model bagging with specification {'base_estimator': None, 'n_estimators': 150, 'seed': 1234}\n",
      "Begining cross k: 2\n",
      "Train set has 59224 rows, with group values of [0, 1, 2, 3, 4, 5]\n",
      "Test set has 25416 rows, with group values of [[4, 5, 6], [7, 8, 9], [10, 11, 12]]\n",
      "\n",
      "Fitting random_forest\n",
      "\n",
      "Built model random_forest with specification {'criterion': 'gini', 'max_depth': 10, 'n_estimators': 80, 'seed': 1234}\n",
      "Built model random_forest with specification {'criterion': 'gini', 'max_depth': 10, 'n_estimators': 100, 'seed': 1234}\n",
      "Built model random_forest with specification {'criterion': 'gini', 'max_depth': 10, 'n_estimators': 150, 'seed': 1234}\n",
      "Built model random_forest with specification {'criterion': 'gini', 'max_depth': 15, 'n_estimators': 80, 'seed': 1234}\n",
      "Built model random_forest with specification {'criterion': 'gini', 'max_depth': 15, 'n_estimators': 100, 'seed': 1234}\n",
      "Built model random_forest with specification {'criterion': 'gini', 'max_depth': 15, 'n_estimators': 150, 'seed': 1234}\n",
      "Built model random_forest with specification {'criterion': 'entropy', 'max_depth': 10, 'n_estimators': 80, 'seed': 1234}\n",
      "Built model random_forest with specification {'criterion': 'entropy', 'max_depth': 10, 'n_estimators': 100, 'seed': 1234}\n",
      "Built model random_forest with specification {'criterion': 'entropy', 'max_depth': 10, 'n_estimators': 150, 'seed': 1234}\n",
      "Built model random_forest with specification {'criterion': 'entropy', 'max_depth': 15, 'n_estimators': 80, 'seed': 1234}\n",
      "Built model random_forest with specification {'criterion': 'entropy', 'max_depth': 15, 'n_estimators': 100, 'seed': 1234}\n",
      "Built model random_forest with specification {'criterion': 'entropy', 'max_depth': 15, 'n_estimators': 150, 'seed': 1234}\n",
      "\n",
      "Fitting gradient_boost\n",
      "\n",
      "Built model gradient_boost with specification {'max_depth': 10, 'n_estimators': 80, 'loss': 'deviance', 'seed': 1234}\n",
      "Built model gradient_boost with specification {'max_depth': 10, 'n_estimators': 80, 'loss': 'exponential', 'seed': 1234}\n",
      "Built model gradient_boost with specification {'max_depth': 10, 'n_estimators': 100, 'loss': 'deviance', 'seed': 1234}\n",
      "Built model gradient_boost with specification {'max_depth': 10, 'n_estimators': 100, 'loss': 'exponential', 'seed': 1234}\n",
      "Built model gradient_boost with specification {'max_depth': 10, 'n_estimators': 150, 'loss': 'deviance', 'seed': 1234}\n",
      "Built model gradient_boost with specification {'max_depth': 10, 'n_estimators': 150, 'loss': 'exponential', 'seed': 1234}\n",
      "Built model gradient_boost with specification {'max_depth': 15, 'n_estimators': 80, 'loss': 'deviance', 'seed': 1234}\n",
      "Built model gradient_boost with specification {'max_depth': 15, 'n_estimators': 80, 'loss': 'exponential', 'seed': 1234}\n",
      "Built model gradient_boost with specification {'max_depth': 15, 'n_estimators': 100, 'loss': 'deviance', 'seed': 1234}\n"
     ]
    },
    {
     "name": "stdout",
     "output_type": "stream",
     "text": [
      "Built model gradient_boost with specification {'max_depth': 15, 'n_estimators': 100, 'loss': 'exponential', 'seed': 1234}\n",
      "Built model gradient_boost with specification {'max_depth': 15, 'n_estimators': 150, 'loss': 'deviance', 'seed': 1234}\n",
      "Built model gradient_boost with specification {'max_depth': 15, 'n_estimators': 150, 'loss': 'exponential', 'seed': 1234}\n",
      "\n",
      "Fitting bagging\n",
      "\n",
      "Built model bagging with specification {'base_estimator': None, 'n_estimators': 80, 'seed': 1234}\n",
      "Built model bagging with specification {'base_estimator': None, 'n_estimators': 100, 'seed': 1234}\n",
      "Built model bagging with specification {'base_estimator': None, 'n_estimators': 150, 'seed': 1234}\n",
      "Begining cross k: 3\n",
      "Train set has 80959 rows, with group values of [0, 1, 2, 3, 4, 5, 6, 7, 8]\n",
      "Test set has 31702 rows, with group values of [[4, 5, 6], [7, 8, 9], [10, 11, 12]]\n",
      "\n",
      "Fitting random_forest\n",
      "\n",
      "Built model random_forest with specification {'criterion': 'gini', 'max_depth': 10, 'n_estimators': 80, 'seed': 1234}\n",
      "Built model random_forest with specification {'criterion': 'gini', 'max_depth': 10, 'n_estimators': 100, 'seed': 1234}\n",
      "Built model random_forest with specification {'criterion': 'gini', 'max_depth': 10, 'n_estimators': 150, 'seed': 1234}\n",
      "Built model random_forest with specification {'criterion': 'gini', 'max_depth': 15, 'n_estimators': 80, 'seed': 1234}\n",
      "Built model random_forest with specification {'criterion': 'gini', 'max_depth': 15, 'n_estimators': 100, 'seed': 1234}\n",
      "Built model random_forest with specification {'criterion': 'gini', 'max_depth': 15, 'n_estimators': 150, 'seed': 1234}\n",
      "Built model random_forest with specification {'criterion': 'entropy', 'max_depth': 10, 'n_estimators': 80, 'seed': 1234}\n",
      "Built model random_forest with specification {'criterion': 'entropy', 'max_depth': 10, 'n_estimators': 100, 'seed': 1234}\n",
      "Built model random_forest with specification {'criterion': 'entropy', 'max_depth': 10, 'n_estimators': 150, 'seed': 1234}\n",
      "Built model random_forest with specification {'criterion': 'entropy', 'max_depth': 15, 'n_estimators': 80, 'seed': 1234}\n",
      "Built model random_forest with specification {'criterion': 'entropy', 'max_depth': 15, 'n_estimators': 100, 'seed': 1234}\n",
      "Built model random_forest with specification {'criterion': 'entropy', 'max_depth': 15, 'n_estimators': 150, 'seed': 1234}\n",
      "\n",
      "Fitting gradient_boost\n",
      "\n",
      "Built model gradient_boost with specification {'max_depth': 10, 'n_estimators': 80, 'loss': 'deviance', 'seed': 1234}\n",
      "Built model gradient_boost with specification {'max_depth': 10, 'n_estimators': 80, 'loss': 'exponential', 'seed': 1234}\n",
      "Built model gradient_boost with specification {'max_depth': 10, 'n_estimators': 100, 'loss': 'deviance', 'seed': 1234}\n",
      "Built model gradient_boost with specification {'max_depth': 10, 'n_estimators': 100, 'loss': 'exponential', 'seed': 1234}\n",
      "Built model gradient_boost with specification {'max_depth': 10, 'n_estimators': 150, 'loss': 'deviance', 'seed': 1234}\n",
      "Built model gradient_boost with specification {'max_depth': 10, 'n_estimators': 150, 'loss': 'exponential', 'seed': 1234}\n",
      "Built model gradient_boost with specification {'max_depth': 15, 'n_estimators': 80, 'loss': 'deviance', 'seed': 1234}\n",
      "Built model gradient_boost with specification {'max_depth': 15, 'n_estimators': 80, 'loss': 'exponential', 'seed': 1234}\n",
      "Built model gradient_boost with specification {'max_depth': 15, 'n_estimators': 100, 'loss': 'deviance', 'seed': 1234}\n",
      "Built model gradient_boost with specification {'max_depth': 15, 'n_estimators': 100, 'loss': 'exponential', 'seed': 1234}\n",
      "Built model gradient_boost with specification {'max_depth': 15, 'n_estimators': 150, 'loss': 'deviance', 'seed': 1234}\n",
      "Built model gradient_boost with specification {'max_depth': 15, 'n_estimators': 150, 'loss': 'exponential', 'seed': 1234}\n",
      "\n",
      "Fitting bagging\n",
      "\n",
      "Built model bagging with specification {'base_estimator': None, 'n_estimators': 80, 'seed': 1234}\n",
      "Built model bagging with specification {'base_estimator': None, 'n_estimators': 100, 'seed': 1234}\n",
      "Built model bagging with specification {'base_estimator': None, 'n_estimators': 150, 'seed': 1234}\n"
     ]
    }
   ],
   "source": [
    "first_models = {k: models[k] for k in ['KNN', 'decision_tree', 'logistic_reg', 'svm']}\n",
    "second_models = {k: models[k] for k in ['random_forest', 'gradient_boost', 'bagging']}\n",
    "results_df = pd.DataFrame()\n",
    "dict_results_1 = prediction.run(x=x, y=y, groups_serie=bimester_serie,\n",
    "                                  test_size=test_size, wait_size=1,\n",
    "                                  num_of_trains=params['cross_ks'],\n",
    "                                  models_dict=first_models,\n",
    "                                  seed=params['seed'],\n",
    "                                  top_ks=params['top_ks'],\n",
    "                                  n_bins=params['discretize_bins'])\n",
    "results_df_1 = pd.DataFrame(dict_results_1)\n",
    "results_df_1.to_csv('results_part1.csv')\n",
    "dict_results_2 = prediction.run(x=x, y=y, groups_serie=bimester_serie,\n",
    "                                  test_size=test_size, wait_size=1,\n",
    "                                  num_of_trains=params['cross_ks'],\n",
    "                                  models_dict=second_models,\n",
    "                                  seed=params['seed'],\n",
    "                                  top_ks=params['top_ks'],\n",
    "                                  n_bins=params['discretize_bins'])\n",
    "results_df_2 = pd.DataFrame(dict_results_2)\n",
    "results_df_2.to_csv('results_part2.csv')\n",
    "\n",
    "results_df = pd.concat([results_df_1, results_df_2])\n",
    "results_df.to_csv('results_complete.csv')"
   ]
  },
  {
   "cell_type": "code",
   "execution_count": null,
   "metadata": {},
   "outputs": [],
   "source": []
  }
 ],
 "metadata": {
  "kernelspec": {
   "display_name": "Python 3",
   "language": "python",
   "name": "python3"
  },
  "language_info": {
   "codemirror_mode": {
    "name": "ipython",
    "version": 3
   },
   "file_extension": ".py",
   "mimetype": "text/x-python",
   "name": "python",
   "nbconvert_exporter": "python",
   "pygments_lexer": "ipython3",
   "version": "3.6.7"
  }
 },
 "nbformat": 4,
 "nbformat_minor": 2
}
