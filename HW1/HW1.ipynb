{
 "cells": [
  {
   "cell_type": "code",
   "execution_count": 1,
   "metadata": {},
   "outputs": [],
   "source": [
    "import pandas as pd\n",
    "import numpy as np\n",
    "from sodapy import Socrata"
   ]
  },
  {
   "cell_type": "code",
   "execution_count": 2,
   "metadata": {},
   "outputs": [
    {
     "name": "stderr",
     "output_type": "stream",
     "text": [
      "WARNING:root:Requests made without an app_token will be subject to strict throttling limits.\n"
     ]
    }
   ],
   "source": [
    "client = Socrata(\"data.cityofchicago.org\", None)"
   ]
  },
  {
   "cell_type": "code",
   "execution_count": 19,
   "metadata": {},
   "outputs": [
    {
     "data": {
      "text/plain": [
       "{'ID': 'number',\n",
       " 'Case Number': 'text',\n",
       " 'Date': 'calendar_date',\n",
       " 'Block': 'text',\n",
       " 'IUCR': 'text',\n",
       " 'Primary Type': 'text',\n",
       " 'Description': 'text',\n",
       " 'Location Description': 'text',\n",
       " 'Arrest': 'checkbox',\n",
       " 'Domestic': 'checkbox',\n",
       " 'Beat': 'text',\n",
       " 'District': 'text',\n",
       " 'Ward': 'number',\n",
       " 'Community Area': 'text',\n",
       " 'FBI Code': 'text',\n",
       " 'X Coordinate': 'number',\n",
       " 'Y Coordinate': 'number',\n",
       " 'Year': 'number',\n",
       " 'Updated On': 'calendar_date',\n",
       " 'Latitude': 'number',\n",
       " 'Longitude': 'number',\n",
       " 'Location': 'point',\n",
       " 'Location (city)': 'text',\n",
       " 'Location (address)': 'text',\n",
       " 'Location (zip)': 'text',\n",
       " 'Location (state)': 'text',\n",
       " 'Historical Wards 2003-2015': 'number',\n",
       " 'Zip Codes': 'number',\n",
       " 'Community Areas': 'number',\n",
       " 'Census Tracts': 'number',\n",
       " 'Wards': 'number',\n",
       " 'Boundaries - ZIP Codes': 'number',\n",
       " 'Police Districts': 'number',\n",
       " 'Police Beats': 'number'}"
      ]
     },
     "execution_count": 19,
     "metadata": {},
     "output_type": "execute_result"
    }
   ],
   "source": [
    "metadata = client.get_metadata(\"6zsd-86xi\")\n",
    "{col['name'] : col['dataTypeName'] for col in metadata['columns']}"
   ]
  },
  {
   "cell_type": "code",
   "execution_count": 3,
   "metadata": {},
   "outputs": [],
   "source": [
    "crime = client.get(\"6zsd-86xi\", where= \"year = 2017 or year = 2018\", limit = 10000)\n",
    "\n",
    "# Convert to pandas DataFrame\n",
    "crime_df = pd.DataFrame.from_dict(results)"
   ]
  },
  {
   "cell_type": "code",
   "execution_count": 4,
   "metadata": {},
   "outputs": [
    {
     "data": {
      "text/plain": [
       "Index(['arrest', 'beat', 'block', 'case_number', 'community_area', 'date',\n",
       "       'description', 'district', 'domestic', 'fbi_code', 'id', 'iucr',\n",
       "       'latitude', 'location', 'location_description', 'longitude',\n",
       "       'primary_type', 'updated_on', 'ward', 'x_coordinate', 'y_coordinate',\n",
       "       'year'],\n",
       "      dtype='object')"
      ]
     },
     "execution_count": 4,
     "metadata": {},
     "output_type": "execute_result"
    }
   ],
   "source": [
    "crime_df.columns"
   ]
  },
  {
   "cell_type": "code",
   "execution_count": 5,
   "metadata": {},
   "outputs": [
    {
     "data": {
      "text/html": [
       "<div>\n",
       "<style scoped>\n",
       "    .dataframe tbody tr th:only-of-type {\n",
       "        vertical-align: middle;\n",
       "    }\n",
       "\n",
       "    .dataframe tbody tr th {\n",
       "        vertical-align: top;\n",
       "    }\n",
       "\n",
       "    .dataframe thead th {\n",
       "        text-align: right;\n",
       "    }\n",
       "</style>\n",
       "<table border=\"1\" class=\"dataframe\">\n",
       "  <thead>\n",
       "    <tr style=\"text-align: right;\">\n",
       "      <th></th>\n",
       "      <th>arrest</th>\n",
       "      <th>beat</th>\n",
       "      <th>block</th>\n",
       "      <th>case_number</th>\n",
       "      <th>community_area</th>\n",
       "      <th>date</th>\n",
       "      <th>description</th>\n",
       "      <th>district</th>\n",
       "      <th>domestic</th>\n",
       "      <th>fbi_code</th>\n",
       "      <th>...</th>\n",
       "      <th>latitude</th>\n",
       "      <th>location</th>\n",
       "      <th>location_description</th>\n",
       "      <th>longitude</th>\n",
       "      <th>primary_type</th>\n",
       "      <th>updated_on</th>\n",
       "      <th>ward</th>\n",
       "      <th>x_coordinate</th>\n",
       "      <th>y_coordinate</th>\n",
       "      <th>year</th>\n",
       "    </tr>\n",
       "  </thead>\n",
       "  <tbody>\n",
       "    <tr>\n",
       "      <th>count</th>\n",
       "      <td>10000</td>\n",
       "      <td>10000</td>\n",
       "      <td>10000</td>\n",
       "      <td>10000</td>\n",
       "      <td>10000</td>\n",
       "      <td>10000</td>\n",
       "      <td>10000</td>\n",
       "      <td>10000</td>\n",
       "      <td>10000</td>\n",
       "      <td>10000</td>\n",
       "      <td>...</td>\n",
       "      <td>9327</td>\n",
       "      <td>9327</td>\n",
       "      <td>9935</td>\n",
       "      <td>9327</td>\n",
       "      <td>10000</td>\n",
       "      <td>10000</td>\n",
       "      <td>10000</td>\n",
       "      <td>9327</td>\n",
       "      <td>9327</td>\n",
       "      <td>10000</td>\n",
       "    </tr>\n",
       "    <tr>\n",
       "      <th>unique</th>\n",
       "      <td>2</td>\n",
       "      <td>273</td>\n",
       "      <td>6655</td>\n",
       "      <td>9998</td>\n",
       "      <td>77</td>\n",
       "      <td>5864</td>\n",
       "      <td>197</td>\n",
       "      <td>23</td>\n",
       "      <td>2</td>\n",
       "      <td>23</td>\n",
       "      <td>...</td>\n",
       "      <td>8156</td>\n",
       "      <td>8156</td>\n",
       "      <td>105</td>\n",
       "      <td>8156</td>\n",
       "      <td>28</td>\n",
       "      <td>253</td>\n",
       "      <td>50</td>\n",
       "      <td>7398</td>\n",
       "      <td>7755</td>\n",
       "      <td>2</td>\n",
       "    </tr>\n",
       "    <tr>\n",
       "      <th>top</th>\n",
       "      <td>False</td>\n",
       "      <td>1834</td>\n",
       "      <td>001XX N STATE ST</td>\n",
       "      <td>JB143932</td>\n",
       "      <td>25</td>\n",
       "      <td>2017-01-01T00:01:00.000</td>\n",
       "      <td>SIMPLE</td>\n",
       "      <td>011</td>\n",
       "      <td>False</td>\n",
       "      <td>06</td>\n",
       "      <td>...</td>\n",
       "      <td>41.883500187</td>\n",
       "      <td>{'type': 'Point', 'coordinates': [-87.62787669...</td>\n",
       "      <td>STREET</td>\n",
       "      <td>-87.627876698</td>\n",
       "      <td>THEFT</td>\n",
       "      <td>2017-02-14T15:49:42.000</td>\n",
       "      <td>42</td>\n",
       "      <td>1176352</td>\n",
       "      <td>1900927</td>\n",
       "      <td>2017</td>\n",
       "    </tr>\n",
       "    <tr>\n",
       "      <th>freq</th>\n",
       "      <td>7976</td>\n",
       "      <td>123</td>\n",
       "      <td>30</td>\n",
       "      <td>2</td>\n",
       "      <td>586</td>\n",
       "      <td>25</td>\n",
       "      <td>946</td>\n",
       "      <td>686</td>\n",
       "      <td>8329</td>\n",
       "      <td>2230</td>\n",
       "      <td>...</td>\n",
       "      <td>18</td>\n",
       "      <td>18</td>\n",
       "      <td>2292</td>\n",
       "      <td>18</td>\n",
       "      <td>2230</td>\n",
       "      <td>8124</td>\n",
       "      <td>626</td>\n",
       "      <td>24</td>\n",
       "      <td>18</td>\n",
       "      <td>9022</td>\n",
       "    </tr>\n",
       "  </tbody>\n",
       "</table>\n",
       "<p>4 rows × 22 columns</p>\n",
       "</div>"
      ],
      "text/plain": [
       "       arrest   beat             block case_number community_area  \\\n",
       "count   10000  10000             10000       10000          10000   \n",
       "unique      2    273              6655        9998             77   \n",
       "top     False   1834  001XX N STATE ST    JB143932             25   \n",
       "freq     7976    123                30           2            586   \n",
       "\n",
       "                           date description district domestic fbi_code  ...    \\\n",
       "count                     10000       10000    10000    10000    10000  ...     \n",
       "unique                     5864         197       23        2       23  ...     \n",
       "top     2017-01-01T00:01:00.000      SIMPLE      011    False       06  ...     \n",
       "freq                         25         946      686     8329     2230  ...     \n",
       "\n",
       "            latitude                                           location  \\\n",
       "count           9327                                               9327   \n",
       "unique          8156                                               8156   \n",
       "top     41.883500187  {'type': 'Point', 'coordinates': [-87.62787669...   \n",
       "freq              18                                                 18   \n",
       "\n",
       "       location_description      longitude primary_type  \\\n",
       "count                  9935           9327        10000   \n",
       "unique                  105           8156           28   \n",
       "top                  STREET  -87.627876698        THEFT   \n",
       "freq                   2292             18         2230   \n",
       "\n",
       "                     updated_on   ward x_coordinate y_coordinate   year  \n",
       "count                     10000  10000         9327         9327  10000  \n",
       "unique                      253     50         7398         7755      2  \n",
       "top     2017-02-14T15:49:42.000     42      1176352      1900927   2017  \n",
       "freq                       8124    626           24           18   9022  \n",
       "\n",
       "[4 rows x 22 columns]"
      ]
     },
     "execution_count": 5,
     "metadata": {},
     "output_type": "execute_result"
    }
   ],
   "source": [
    "crime_df.describe()"
   ]
  },
  {
   "cell_type": "code",
   "execution_count": 6,
   "metadata": {},
   "outputs": [
    {
     "data": {
      "text/plain": [
       "(10000, 22)"
      ]
     },
     "execution_count": 6,
     "metadata": {},
     "output_type": "execute_result"
    }
   ],
   "source": [
    "results_df.shape"
   ]
  },
  {
   "cell_type": "code",
   "execution_count": 12,
   "metadata": {},
   "outputs": [
    {
     "data": {
      "text/plain": [
       "count     10000\n",
       "unique        2\n",
       "top        2017\n",
       "freq       9022\n",
       "Name: year, dtype: object"
      ]
     },
     "execution_count": 12,
     "metadata": {},
     "output_type": "execute_result"
    }
   ],
   "source": [
    "results_df.year.describe()"
   ]
  },
  {
   "cell_type": "code",
   "execution_count": null,
   "metadata": {},
   "outputs": [],
   "source": []
  }
 ],
 "metadata": {
  "kernelspec": {
   "display_name": "Python 3",
   "language": "python",
   "name": "python3"
  },
  "language_info": {
   "codemirror_mode": {
    "name": "ipython",
    "version": 3
   },
   "file_extension": ".py",
   "mimetype": "text/x-python",
   "name": "python",
   "nbconvert_exporter": "python",
   "pygments_lexer": "ipython3",
   "version": "3.7.2"
  }
 },
 "nbformat": 4,
 "nbformat_minor": 2
}
